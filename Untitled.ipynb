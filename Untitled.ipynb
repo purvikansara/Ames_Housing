{
 "cells": [
  {
   "cell_type": "code",
   "execution_count": 1,
   "id": "8baaa239-ef80-4283-a7b9-5a9b4579973c",
   "metadata": {},
   "outputs": [],
   "source": [
    "import streamlit as st\n",
    "import pandas as pd\n",
    "import numpy as np\n",
    "import joblib, json, os, sys\n",
    "from lime.lime_tabular import LimeTabularExplainer\n",
    "from sklearn import set_config\n",
    "set_config(transform_output='pandas')\n",
    "\n"
   ]
  },
  {
   "cell_type": "code",
   "execution_count": 3,
   "id": "5eeee286-121e-492e-9b75-3cee07eed27f",
   "metadata": {},
   "outputs": [
    {
     "name": "stdout",
     "output_type": "stream",
     "text": [
      "{'data': {'ml': {'test': 'data/testing-data.joblib',\n",
      "                 'train': 'data/training-data.joblib'},\n",
      "          'raw': {'eda': 'data/ames-housing-dojo-for-ml-eda.csv',\n",
      "                  'full': 'data/ames-housing-dojo-for-ml.csv'}},\n",
      " 'images': {'banner': 'images/app-banner.png'},\n",
      " 'models': {'linear_regression': 'models/linear_regression/linreg.joblib',\n",
      "            'random_forest': 'models/random_forest/rf_reg.joblib'}}\n"
     ]
    }
   ],
   "source": [
    "from pprint import pprint\n",
    "FPATHS = dict(\n",
    "    data={\n",
    "        \"raw\": {\n",
    "            \"full\": \"data/ames-housing-dojo-for-ml.csv\",  # (This is the original full dataframe we already have)\n",
    "            \"eda\": \"data/ames-housing-dojo-for-ml-eda.csv\" # We haven't saved this yet\n",
    "        },\n",
    "        \"ml\": {\n",
    "            \"train\": \"data/training-data.joblib\",  # (X_train,y_train) We haven't saved this yet\n",
    "            \"test\": \"data/testing-data.joblib\",  # (X_test,y_test) We haven't saved this yet\n",
    "        },\n",
    "    },\n",
    "    models={\n",
    "        \"linear_regression\": \"models/linear_regression/linreg.joblib\", # We haven't saved this yet\n",
    "        \"random_forest\": \"models/random_forest/rf_reg.joblib\", # We haven't saved this yet\n",
    "    },\n",
    "    images={\n",
    "        \"banner\": \"images/app-banner.png\", # We haven't saved this yet\n",
    "    },\n",
    ")\n",
    "pprint(FPATHS)\n",
    "\n"
   ]
  },
  {
   "cell_type": "code",
   "execution_count": 5,
   "id": "a241d543-fc6a-43a4-89da-6a270e7c2339",
   "metadata": {},
   "outputs": [],
   "source": [
    " ## Save the filepaths \n",
    "import os, json\n",
    "os.makedirs('config/', exist_ok=True)\n",
    "FPATHS_FILE = 'config/filepaths.json'\n",
    "with open(FPATHS_FILE, 'w') as f:\n",
    "    json.dump(FPATHS, f)\n"
   ]
  },
  {
   "cell_type": "code",
   "execution_count": 7,
   "id": "efb041be-2db4-4811-a087-e3b1ee64db52",
   "metadata": {},
   "outputs": [],
   "source": [
    "import os, sys\n",
    "%load_ext autoreload \n",
    "%autoreload 2\n",
    "import custom_functions as fn"
   ]
  },
  {
   "cell_type": "code",
   "execution_count": null,
   "id": "be52e6ac-1cdb-400b-ae0e-fc6f84f90714",
   "metadata": {},
   "outputs": [],
   "source": []
  }
 ],
 "metadata": {
  "kernelspec": {
   "display_name": "Python 3 (ipykernel)",
   "language": "python",
   "name": "python3"
  },
  "language_info": {
   "codemirror_mode": {
    "name": "ipython",
    "version": 3
   },
   "file_extension": ".py",
   "mimetype": "text/x-python",
   "name": "python",
   "nbconvert_exporter": "python",
   "pygments_lexer": "ipython3",
   "version": "3.10.10"
  }
 },
 "nbformat": 4,
 "nbformat_minor": 5
}
